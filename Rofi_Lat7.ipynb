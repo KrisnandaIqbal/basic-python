{
 "cells": [
  {
   "cell_type": "code",
   "execution_count": 1,
   "metadata": {},
   "outputs": [
    {
     "name": "stdout",
     "output_type": "stream",
     "text": [
      "I\n",
      "n\n",
      "d\n",
      "o\n",
      "n\n",
      "e\n",
      "s\n",
      "i\n",
      "a\n"
     ]
    }
   ],
   "source": [
    "kata = \"Indonesia\"\n",
    "for k in kata:\n",
    "    print(k)"
   ]
  },
  {
   "cell_type": "code",
   "execution_count": 2,
   "metadata": {},
   "outputs": [
    {
     "name": "stdout",
     "output_type": "stream",
     "text": [
      "gatotkaca\n",
      "janaka\n",
      "srikandi\n"
     ]
    }
   ],
   "source": [
    "wayang = ['gatotkaca','janaka','srikandi']\n",
    "for w in wayang:\n",
    "    print(w)"
   ]
  },
  {
   "cell_type": "code",
   "execution_count": 4,
   "metadata": {},
   "outputs": [
    {
     "name": "stdout",
     "output_type": "stream",
     "text": [
      "64\n"
     ]
    }
   ],
   "source": [
    "urut_angka = [10, 5 ,8, 12, 8, 6, 15]\n",
    "jumlah = 0\n",
    "for i in urut_angka:\n",
    "    jumlah = jumlah + i\n",
    "print(jumlah)"
   ]
  },
  {
   "cell_type": "code",
   "execution_count": null,
   "metadata": {},
   "outputs": [],
   "source": []
  }
 ],
 "metadata": {
  "kernelspec": {
   "display_name": "Python 3",
   "language": "python",
   "name": "python3"
  },
  "language_info": {
   "codemirror_mode": {
    "name": "ipython",
    "version": 3
   },
   "file_extension": ".py",
   "mimetype": "text/x-python",
   "name": "python",
   "nbconvert_exporter": "python",
   "pygments_lexer": "ipython3",
   "version": "3.6.8"
  }
 },
 "nbformat": 4,
 "nbformat_minor": 2
}
