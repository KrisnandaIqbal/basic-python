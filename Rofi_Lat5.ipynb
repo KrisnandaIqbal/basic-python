{
 "cells": [
  {
   "cell_type": "code",
   "execution_count": 1,
   "metadata": {},
   "outputs": [
    {
     "name": "stdout",
     "output_type": "stream",
     "text": [
      "Masukan Jenjang Anda :S1\n",
      "Masukan IPK anda : 3.6\n",
      "Saudara dapat mendaftar 1 beasiswa\n"
     ]
    }
   ],
   "source": [
    "jenjang = input(\"Masukan Jenjang Anda :\")\n",
    "ip = float(input(\"Masukan IPK anda : \"))\n",
    "if jenjang == \"S1\":\n",
    "    if 3.75 <= ip < 4.0:\n",
    "        print(\"Saudara dapat mendaftar 2 beasiswa\")\n",
    "    elif 3.5 <= ip < 3.75:\n",
    "        print(\"Saudara dapat mendaftar 1 beasiswa\")\n",
    "    else:\n",
    "        print(\"Maaf, Saudara tidak bisa mendaftar beasiswa karena IP anda tidak mencukupi\")\n",
    "else:\n",
    "    print(\"Maaf anda tidak dapat mendaftar beasiswa karna jenjang anda D3\")"
   ]
  }
 ],
 "metadata": {
  "kernelspec": {
   "display_name": "Python 3",
   "language": "python",
   "name": "python3"
  },
  "language_info": {
   "codemirror_mode": {
    "name": "ipython",
    "version": 3
   },
   "file_extension": ".py",
   "mimetype": "text/x-python",
   "name": "python",
   "nbconvert_exporter": "python",
   "pygments_lexer": "ipython3",
   "version": "3.6.8"
  }
 },
 "nbformat": 4,
 "nbformat_minor": 2
}
