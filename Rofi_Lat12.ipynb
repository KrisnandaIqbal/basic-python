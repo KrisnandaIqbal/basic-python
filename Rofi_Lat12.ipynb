{
 "cells": [
  {
   "cell_type": "code",
   "execution_count": 2,
   "metadata": {},
   "outputs": [
    {
     "name": "stdout",
     "output_type": "stream",
     "text": [
      "Masukkan angka atau tekan ENTER untuk keluar : 5\n",
      "Masukkan angka atau tekan ENTER untuk keluar : 25\n",
      "Masukkan angka atau tekan ENTER untuk keluar : 75\n",
      "Masukkan angka atau tekan ENTER untuk keluar : 24\n",
      "Masukkan angka atau tekan ENTER untuk keluar : 63\n",
      "Masukkan angka atau tekan ENTER untuk keluar : 91\n",
      "Masukkan angka atau tekan ENTER untuk keluar : \n",
      "Jumlah masukan : 6\n",
      "Total masukan : 283.00\n",
      "Rerata masukan : 47.17\n"
     ]
    }
   ],
   "source": [
    "total = 0.0\n",
    "i = 0\n",
    "masukan = input(\"Masukkan angka atau tekan ENTER untuk keluar : \")\n",
    "while masukan != \"\":\n",
    "    angka = float(masukan)\n",
    "    total = total + angka\n",
    "    i = i+1\n",
    "    masukan = input(\"Masukkan angka atau tekan ENTER untuk keluar : \")\n",
    "rerata = total/i\n",
    "print(\"Jumlah masukan :\", i)\n",
    "print(\"Total masukan :\", format(total,'.2f'))\n",
    "print(\"Rerata masukan :\", format(rerata,'.2f'))"
   ]
  }
 ],
 "metadata": {
  "kernelspec": {
   "display_name": "Python 3",
   "language": "python",
   "name": "python3"
  },
  "language_info": {
   "codemirror_mode": {
    "name": "ipython",
    "version": 3
   },
   "file_extension": ".py",
   "mimetype": "text/x-python",
   "name": "python",
   "nbconvert_exporter": "python",
   "pygments_lexer": "ipython3",
   "version": "3.6.8"
  }
 },
 "nbformat": 4,
 "nbformat_minor": 2
}
