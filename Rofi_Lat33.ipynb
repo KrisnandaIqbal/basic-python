{
 "cells": [
  {
   "cell_type": "code",
   "execution_count": 1,
   "metadata": {},
   "outputs": [
    {
     "name": "stdout",
     "output_type": "stream",
     "text": [
      "Mata kuliah Dasprog diambil 3 mahasiswa\n"
     ]
    }
   ],
   "source": [
    "mahasiswa = [\n",
    "    (\"Winda\", [\"Dasprog\", \"Orgkom\"]),\n",
    "    (\"Jhony\", [\"Dasprog\", \"Orgkom\", \"SisDat\"]),\n",
    "    (\"Tyas\", [\"SisDat\", \"Sistem Operasi\", \"Basis Data\", \"OO\"]),\n",
    "    (\"Hana\", [\"Web\", \"Sistem Operasi\", \"Basis Data\", \"OO\"]),\n",
    "    (\"Hafidz\", [\"Web\", \"IoT\", \"Mikroprosessor\", \"Digital\", \"Dasprog\"])]\n",
    "jumlah = 0\n",
    "for (nama, makul) in mahasiswa:\n",
    "    if \"Dasprog\" in makul:\n",
    "        jumlah += 1\n",
    "print(\"Mata kuliah Dasprog diambil\", jumlah, \"mahasiswa\")"
   ]
  }
 ],
 "metadata": {
  "kernelspec": {
   "display_name": "Python 3",
   "language": "python",
   "name": "python3"
  },
  "language_info": {
   "codemirror_mode": {
    "name": "ipython",
    "version": 3
   },
   "file_extension": ".py",
   "mimetype": "text/x-python",
   "name": "python",
   "nbconvert_exporter": "python",
   "pygments_lexer": "ipython3",
   "version": "3.6.9"
  }
 },
 "nbformat": 4,
 "nbformat_minor": 2
}
