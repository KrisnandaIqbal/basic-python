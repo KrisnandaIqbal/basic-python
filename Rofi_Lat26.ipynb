{
 "cells": [
  {
   "cell_type": "code",
   "execution_count": 2,
   "metadata": {},
   "outputs": [
    {
     "name": "stdout",
     "output_type": "stream",
     "text": [
      "Masukkan panjang :12\n",
      "Masukkan lebar :12\n",
      "Masukkan tinggi :12\n",
      "Volume =  1728.0\n",
      "Luas =  864.0\n",
      "Keliling =  144.0\n"
     ]
    }
   ],
   "source": [
    "import balok\n",
    "\n",
    "def input_balok():\n",
    "    panjang = float(input(\"Masukkan panjang :\"))\n",
    "    lebar = float(input(\"Masukkan lebar :\"))\n",
    "    tinggi = float(input(\"Masukkan tinggi :\"))\n",
    "    return panjang, lebar, tinggi\n",
    "\n",
    "a, b, c = input_balok()\n",
    "balok.volume_balok(a, b, c)\n",
    "balok.luas_balok(a, b, c)\n",
    "balok.keliling_balok(a, b, c)"
   ]
  }
 ],
 "metadata": {
  "kernelspec": {
   "display_name": "Python 3",
   "language": "python",
   "name": "python3"
  },
  "language_info": {
   "codemirror_mode": {
    "name": "ipython",
    "version": 3
   },
   "file_extension": ".py",
   "mimetype": "text/x-python",
   "name": "python",
   "nbconvert_exporter": "python",
   "pygments_lexer": "ipython3",
   "version": "3.6.9"
  }
 },
 "nbformat": 4,
 "nbformat_minor": 2
}
