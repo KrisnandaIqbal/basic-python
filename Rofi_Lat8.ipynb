{
 "cells": [
  {
   "cell_type": "code",
   "execution_count": 1,
   "metadata": {},
   "outputs": [
    {
     "name": "stdout",
     "output_type": "stream",
     "text": [
      "Nama saya  Agus  Saya cinta Indonesia\n",
      "Nama saya  Agus  Saya cinta Indonesia\n",
      "Nama saya  Agus  Saya cinta Indonesia\n",
      "\n",
      "Nama saya  Budi  Saya cinta Indonesia\n",
      "Nama saya  Budi  Saya cinta Indonesia\n",
      "Nama saya  Budi  Saya cinta Indonesia\n",
      "\n",
      "Nama saya  Joko  Saya cinta Indonesia\n",
      "Nama saya  Joko  Saya cinta Indonesia\n",
      "Nama saya  Joko  Saya cinta Indonesia\n",
      "\n",
      "Semua cinta Indonesia\n"
     ]
    }
   ],
   "source": [
    "nama = ['Agus', 'Budi', 'Joko']\n",
    "for i in nama:\n",
    "    for n in range(3):\n",
    "        print(\"Nama saya \",i,\" Saya cinta Indonesia\")\n",
    "    print()\n",
    "print(\"Semua cinta Indonesia\")"
   ]
  },
  {
   "cell_type": "code",
   "execution_count": null,
   "metadata": {},
   "outputs": [],
   "source": []
  }
 ],
 "metadata": {
  "kernelspec": {
   "display_name": "Python 3",
   "language": "python",
   "name": "python3"
  },
  "language_info": {
   "codemirror_mode": {
    "name": "ipython",
    "version": 3
   },
   "file_extension": ".py",
   "mimetype": "text/x-python",
   "name": "python",
   "nbconvert_exporter": "python",
   "pygments_lexer": "ipython3",
   "version": "3.6.8"
  }
 },
 "nbformat": 4,
 "nbformat_minor": 2
}
