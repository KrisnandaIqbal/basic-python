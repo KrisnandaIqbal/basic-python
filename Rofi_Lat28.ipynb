{
 "cells": [
  {
   "cell_type": "code",
   "execution_count": 7,
   "metadata": {},
   "outputs": [
    {
     "name": "stdout",
     "output_type": "stream",
     "text": [
      "Ini variabel lokal, bearada didalam fungsi\n",
      "Ini variabel global, berada diluar fungsi\n"
     ]
    }
   ],
   "source": [
    "def variableku():\n",
    "    var_lok =  \"Ini variabel lokal, bearada didalam fungsi\"\n",
    "    print(var_lok)\n",
    "    print(var_glo)\n",
    "\n",
    "var_glo = \"Ini variabel global, berada diluar fungsi\"\n",
    "variableku()"
   ]
  },
  {
   "cell_type": "code",
   "execution_count": 4,
   "metadata": {},
   "outputs": [
    {
     "name": "stdout",
     "output_type": "stream",
     "text": [
      "Ini variabel lokal, bearada didalam fungsi\n"
     ]
    }
   ],
   "source": [
    "def variabelku():\n",
    "    var_1 = \"Ini variabel lokal, bearada didalam fungsi\"\n",
    "    print(var_1)\n",
    "    \n",
    "var_1 =  \"Ini variabel global, berada diluar fungsi\"\n",
    "variabelku()"
   ]
  },
  {
   "cell_type": "code",
   "execution_count": 5,
   "metadata": {},
   "outputs": [
    {
     "name": "stdout",
     "output_type": "stream",
     "text": [
      "Ini variabel global, berada diluar fungsi\n",
      "Ini variabel lokal, bearada didalam fungsi\n"
     ]
    }
   ],
   "source": [
    "def variabelku():\n",
    "    global var_1\n",
    "    print(var_1)\n",
    "    var_1 = \"Ini variabel lokal, bearada didalam fungsi\"\n",
    "    print(var_1)\n",
    "    \n",
    "var_1 =  \"Ini variabel global, berada diluar fungsi\"\n",
    "variabelku()"
   ]
  },
  {
   "cell_type": "code",
   "execution_count": 1,
   "metadata": {},
   "outputs": [
    {
     "name": "stdout",
     "output_type": "stream",
     "text": [
      "Ini variabel lokal, berada didalam fungsi\n",
      "Ini variabel global, berada diluar fungsi\n"
     ]
    },
    {
     "ename": "NameError",
     "evalue": "name 'var_lok' is not defined",
     "output_type": "error",
     "traceback": [
      "\u001b[0;31m---------------------------------------------------------------------------\u001b[0m",
      "\u001b[0;31mNameError\u001b[0m                                 Traceback (most recent call last)",
      "\u001b[0;32m<ipython-input-1-daff50f74f31>\u001b[0m in \u001b[0;36m<module>\u001b[0;34m\u001b[0m\n\u001b[1;32m      6\u001b[0m \u001b[0mvar_glo\u001b[0m \u001b[0;34m=\u001b[0m \u001b[0;34m\"Ini variabel global, berada diluar fungsi\"\u001b[0m\u001b[0;34m\u001b[0m\u001b[0;34m\u001b[0m\u001b[0m\n\u001b[1;32m      7\u001b[0m \u001b[0mvariabelku\u001b[0m\u001b[0;34m(\u001b[0m\u001b[0;34m)\u001b[0m\u001b[0;34m\u001b[0m\u001b[0;34m\u001b[0m\u001b[0m\n\u001b[0;32m----> 8\u001b[0;31m \u001b[0mprint\u001b[0m\u001b[0;34m(\u001b[0m\u001b[0mvar_lok\u001b[0m\u001b[0;34m)\u001b[0m\u001b[0;34m\u001b[0m\u001b[0;34m\u001b[0m\u001b[0m\n\u001b[0m",
      "\u001b[0;31mNameError\u001b[0m: name 'var_lok' is not defined"
     ]
    }
   ],
   "source": [
    "def variabelku():\n",
    "    var_lok =\"Ini variabel lokal, berada didalam fungsi\"\n",
    "    print(var_lok)\n",
    "    print(var_glo)\n",
    "    \n",
    "var_glo = \"Ini variabel global, berada diluar fungsi\"\n",
    "variabelku()\n",
    "print(var_lok)"
   ]
  }
 ],
 "metadata": {
  "kernelspec": {
   "display_name": "Python 3",
   "language": "python",
   "name": "python3"
  },
  "language_info": {
   "codemirror_mode": {
    "name": "ipython",
    "version": 3
   },
   "file_extension": ".py",
   "mimetype": "text/x-python",
   "name": "python",
   "nbconvert_exporter": "python",
   "pygments_lexer": "ipython3",
   "version": "3.6.9"
  }
 },
 "nbformat": 4,
 "nbformat_minor": 2
}
