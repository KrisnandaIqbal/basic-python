{
 "cells": [
  {
   "cell_type": "code",
   "execution_count": 12,
   "metadata": {},
   "outputs": [
    {
     "name": "stdout",
     "output_type": "stream",
     "text": [
      "Tekan y/Y jika Saudara ingin memasukan sebuah kata : y\n",
      "Masukan kata/kalimat :nasdnajdn\n",
      "Tekan y/Y jika Saudara ingin memasukan sebuah kata : y\n",
      "Masukan kata/kalimat :najdanjdna\n",
      "Tekan y/Y jika Saudara ingin memasukan sebuah kata : y\n",
      "Masukan kata/kalimat :ajsdnajsdna\n",
      "Tekan y/Y jika Saudara ingin memasukan sebuah kata : \n",
      "\n",
      "\n",
      "Kalimat Saudara :   nasdnajdn najdanjdna ajsdnajsdna                                                                   \n"
     ]
    }
   ],
   "source": [
    "kalimat = \"\"\n",
    "i = 0\n",
    "opsi = input(\"Tekan y/Y jika Saudara ingin memasukan sebuah kata : \")\n",
    "while opsi == 'y' or opsi == 'Y':\n",
    "    kata = input(\"Masukan kata/kalimat :\")\n",
    "    kalimat = kalimat + \" \" + kata\n",
    "    i = i+1\n",
    "    opsi = input(\"Tekan y/Y jika Saudara ingin memasukan sebuah kata : \")\n",
    "print(\"\\n\")\n",
    "print(\"Kalimat Saudara : \", kalimat.ljust(100))"
   ]
  }
 ],
 "metadata": {
  "kernelspec": {
   "display_name": "Python 3",
   "language": "python",
   "name": "python3"
  },
  "language_info": {
   "codemirror_mode": {
    "name": "ipython",
    "version": 3
   },
   "file_extension": ".py",
   "mimetype": "text/x-python",
   "name": "python",
   "nbconvert_exporter": "python",
   "pygments_lexer": "ipython3",
   "version": "3.6.8"
  }
 },
 "nbformat": 4,
 "nbformat_minor": 2
}
