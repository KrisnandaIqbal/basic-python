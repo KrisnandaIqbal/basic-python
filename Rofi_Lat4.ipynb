{
 "cells": [
  {
   "cell_type": "code",
   "execution_count": 2,
   "metadata": {},
   "outputs": [
    {
     "name": "stdout",
     "output_type": "stream",
     "text": [
      "Masukan suhu Celcius yang ingin kamu konversi : 30\n",
      "Masukan tujuan konversi suhu yang kamu inginkan (K/k atau F/f atau R/r) : r\n",
      "30.0 Celcius =  24.0 Reamur\n"
     ]
    }
   ],
   "source": [
    "celcius = float(input(\"Masukan suhu Celcius yang ingin kamu konversi : \"))\n",
    "opsi = input(\"Masukan tujuan konversi suhu yang kamu inginkan (K/k atau F/f atau R/r) : \")\n",
    "if (opsi == \"K\") or (opsi == \"k\"):\n",
    "    kelvin = celcius + 273\n",
    "    print(celcius, \"Celcius = \", kelvin, \"Kelvin\")\n",
    "elif (opsi == \"F\") or (opsi == \"f\"):\n",
    "    farenheit = (9/5 * celcius) + 32\n",
    "    print(celcius, \"Celcius = \", farenheit, \"Farenheit\")\n",
    "elif (opsi == \"R\") or (opsi == \"r\"):\n",
    "    reamur = 4/5 * celcius\n",
    "    print(celcius, \"Celcius = \", reamur, \"Reamur\")\n",
    "else:\n",
    "    print(\"Pilihan opsi anda tidak ada\")"
   ]
  },
  {
   "cell_type": "code",
   "execution_count": null,
   "metadata": {},
   "outputs": [],
   "source": []
  }
 ],
 "metadata": {
  "kernelspec": {
   "display_name": "Python 3",
   "language": "python",
   "name": "python3"
  },
  "language_info": {
   "codemirror_mode": {
    "name": "ipython",
    "version": 3
   },
   "file_extension": ".py",
   "mimetype": "text/x-python",
   "name": "python",
   "nbconvert_exporter": "python",
   "pygments_lexer": "ipython3",
   "version": "3.6.8"
  }
 },
 "nbformat": 4,
 "nbformat_minor": 2
}
