{
 "cells": [
  {
   "cell_type": "code",
   "execution_count": 3,
   "metadata": {},
   "outputs": [
    {
     "name": "stdout",
     "output_type": "stream",
     "text": [
      "{'nim': '1906780211', 'nama': 'Edy', 'umur': 18}\n"
     ]
    }
   ],
   "source": [
    "mahasiswaku = {\n",
    "    \"mhs1\":{\n",
    "        \"nim\": \"1906780211\",\n",
    "        \"nama\": \"Edy\",\n",
    "        \"umur\": 18\n",
    "    },\n",
    "    \"mhs2\":{\n",
    "        \"nim\": \"1906780212\",\n",
    "        \"nama\": \"Wildan\",\n",
    "        \"umur\": 19\n",
    "    },\n",
    "    \"mhs3\":{\n",
    "        \"nim\": \"1906780213\",\n",
    "        \"nama\": \"Patria\",\n",
    "        \"umur\": 18\n",
    "    }\n",
    "}\n",
    "print(mahasiswaku[\"mhs1\"])"
   ]
  }
 ],
 "metadata": {
  "kernelspec": {
   "display_name": "Python 3",
   "language": "python",
   "name": "python3"
  },
  "language_info": {
   "codemirror_mode": {
    "name": "ipython",
    "version": 3
   },
   "file_extension": ".py",
   "mimetype": "text/x-python",
   "name": "python",
   "nbconvert_exporter": "python",
   "pygments_lexer": "ipython3",
   "version": "3.6.9"
  }
 },
 "nbformat": 4,
 "nbformat_minor": 2
}
