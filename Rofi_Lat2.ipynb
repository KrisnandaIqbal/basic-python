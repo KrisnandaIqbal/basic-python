{
 "cells": [
  {
   "cell_type": "code",
   "execution_count": 4,
   "metadata": {},
   "outputs": [
    {
     "name": "stdout",
     "output_type": "stream",
     "text": [
      "15436\n",
      "4\n",
      "17\n",
      "16\n",
      "Perjalanan mobil dari kota A ke kota B menempuh waktu 4 jam 17 menit 16 detik\n",
      "waktu tiba jika keberangkatan pukul 6 adalah 10 : 17 : 16\n"
     ]
    }
   ],
   "source": [
    "#konversi waktu mobil\n",
    "mobil_awal = 15436\n",
    "mobil_jam = mobil_awal // 3600\n",
    "mobil_sisa_jam_dalam_detik = mobil_awal - (mobil_jam * 3600)\n",
    "mobil_menit = mobil_sisa_jam_dalam_detik // 60\n",
    "mobil_detik = mobil_awal - (mobil_jam*3600) - (mobil_menit*60)\n",
    "print(mobil_awal)\n",
    "print(mobil_jam)\n",
    "print(mobil_menit)\n",
    "print(mobil_detik)\n",
    "print(\"Perjalanan mobil dari kota A ke kota B menempuh waktu\",mobil_jam,\"jam\",mobil_menit,\"menit\",mobil_detik,\"detik\")\n",
    "print(\"waktu tiba jika keberangkatan pukul 6 adalah\",mobil_jam + 6,\":\",mobil_menit + 0,\":\",mobil_detik + 0,)\n"
   ]
  },
  {
   "cell_type": "code",
   "execution_count": 3,
   "metadata": {},
   "outputs": [
    {
     "name": "stdout",
     "output_type": "stream",
     "text": [
      "11233\n",
      "3\n",
      "7\n",
      "13\n",
      "Perjalanan kereta dari kota A ke kota B menempuh waktu 3 jam 7 menit 13 detik\n",
      "waktu tiba jika keberangkatan pukul 6 adalah 9 : 7 : 13\n"
     ]
    }
   ],
   "source": [
    "#konversi waktu kereta\n",
    "kereta_awal = 15436 - 4203\n",
    "kereta_jam = kereta_awal // 3600\n",
    "kereta_sisa_jam_dalam_detik = kereta_awal - (kereta_jam * 3600)\n",
    "kereta_menit = kereta_sisa_jam_dalam_detik // 60\n",
    "kereta_detik = kereta_awal - (kereta_jam*3600) - (kereta_menit*60)\n",
    "print(kereta_awal)\n",
    "print(kereta_jam)\n",
    "print(kereta_menit)\n",
    "print(kereta_detik)\n",
    "print(\"Perjalanan kereta dari kota A ke kota B menempuh waktu\",kereta_jam,\"jam\",kereta_menit,\"menit\",kereta_detik,\"detik\")\n",
    "print(\"waktu tiba jika keberangkatan pukul 6 adalah\",kereta_jam + 6,\":\",kereta_menit + 0,\":\",kereta_detik + 0,)\n"
   ]
  },
  {
   "cell_type": "code",
   "execution_count": 2,
   "metadata": {},
   "outputs": [
    {
     "name": "stdout",
     "output_type": "stream",
     "text": [
      "'Kesimpulan'\n",
      "Perjalanan mobil dari kota A ke kota B menempuh waktu 4 jam 17 menit 16 detik\n",
      "waktu tiba jika keberangkatan pukul 6 adalah 10 : 17 : 16\n",
      "Perjalanan kereta dari kota A ke kota B menempuh waktu 3 jam 7 menit 13 detik\n",
      "waktu tiba jika keberangkatan pukul 6 adalah 9 : 7 : 13\n"
     ]
    }
   ],
   "source": [
    "#Kesimpulan\n",
    "\n",
    "mobil_awal = 15436\n",
    "mobil_jam = mobil_awal // 3600\n",
    "mobil_sisa_jam_dalam_detik = mobil_awal - (mobil_jam * 3600)\n",
    "mobil_menit = mobil_sisa_jam_dalam_detik // 60\n",
    "mobil_detik = mobil_awal - (mobil_jam*3600) - (mobil_menit*60)\n",
    "kereta_awal = mobil_awal - 4203\n",
    "kereta_jam = kereta_awal // 3600\n",
    "kereta_sisa_jam_dalam_detik = kereta_awal - (kereta_jam * 3600)\n",
    "kereta_menit = kereta_sisa_jam_dalam_detik // 60\n",
    "kereta_detik = kereta_awal - (kereta_jam*3600) - (kereta_menit*60)\n",
    "print(\"\\'Kesimpulan\\'\")\n",
    "print(\"Perjalanan mobil dari kota A ke kota B menempuh waktu\",mobil_jam,\"jam\",mobil_menit,\"menit\",mobil_detik,\"detik\")\n",
    "print(\"waktu tiba jika keberangkatan pukul 6 adalah\",mobil_jam + 6,\":\",mobil_menit + 0,\":\",mobil_detik + 0,)\n",
    "print(\"Perjalanan kereta dari kota A ke kota B menempuh waktu\",kereta_jam,\"jam\",kereta_menit,\"menit\",kereta_detik,\"detik\")\n",
    "print(\"waktu tiba jika keberangkatan pukul 6 adalah\",kereta_jam + 6,\":\",kereta_menit + 0,\":\",kereta_detik + 0,)\n",
    "\n"
   ]
  }
 ],
 "metadata": {
  "kernelspec": {
   "display_name": "Python 3",
   "language": "python",
   "name": "python3"
  },
  "language_info": {
   "codemirror_mode": {
    "name": "ipython",
    "version": 3
   },
   "file_extension": ".py",
   "mimetype": "text/x-python",
   "name": "python",
   "nbconvert_exporter": "python",
   "pygments_lexer": "ipython3",
   "version": "3.6.8"
  }
 },
 "nbformat": 4,
 "nbformat_minor": 2
}
