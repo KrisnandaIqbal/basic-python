{
 "cells": [
  {
   "cell_type": "code",
   "execution_count": 6,
   "metadata": {},
   "outputs": [
    {
     "name": "stdout",
     "output_type": "stream",
     "text": [
      "Nilai anda :  0.6 berarti E\n",
      "Selamat Belajar\n"
     ]
    }
   ],
   "source": [
    "# Penghitung Nilai Akhir 1 tanpa logika AND\n",
    "nilai = 0.6\n",
    "if nilai >= 4.0:\n",
    "    print(\"Nilai anda : \",nilai,\"berarti A\")\n",
    "elif 3.5 <= nilai < 4.0:\n",
    "    print(\"Nilai anda : \",nilai,\"berarti B+\")\n",
    "elif 3.0 <= nilai < 3.5:\n",
    "    print(\"Nilai anda : \",nilai,\"berarti B\")\n",
    "elif 2.5 <= nilai < 3.0:\n",
    "    print(\"Nilai anda : \",nilai,\"berarti C+\")\n",
    "elif 2.0 <= nilai < 2.5:\n",
    "    print(\"Nilai anda : \",nilai,\"berarti C\")\n",
    "elif 1.5 <= nilai < 2.0:\n",
    "    print(\"Nilai anda : \",nilai,\"berarti D+\")\n",
    "elif 1.0 <= nilai < 1.5:\n",
    "    print(\"Nilai anda : \",nilai,\"berarti D\")\n",
    "else: \n",
    "    print(\"Nilai anda : \",nilai,\"berarti E\")\n",
    "print(\"Selamat Belajar\")"
   ]
  },
  {
   "cell_type": "code",
   "execution_count": 7,
   "metadata": {},
   "outputs": [
    {
     "name": "stdout",
     "output_type": "stream",
     "text": [
      "Nilai anda :  0.6 berarti E\n",
      "Selamat Belajar\n"
     ]
    }
   ],
   "source": [
    "# Penghitung Nilai Akhir 2 dengan logika AND\n",
    "nilai = 0.6\n",
    "if nilai >= 4.0:\n",
    "    print(\"Nilai anda : \",nilai,\"berarti A\")\n",
    "elif 3.5 <= nilai and nilai < 4.0:\n",
    "    print(\"Nilai anda : \",nilai,\"berarti B+\")\n",
    "elif 3.0 <= nilai and nilai < 3.5:\n",
    "    print(\"Nilai anda : \",nilai,\"berarti B\")\n",
    "elif 2.5 <= nilai and nilai < 3.0:\n",
    "    print(\"Nilai anda : \",nilai,\"berarti C+\")\n",
    "elif 2.0 <= nilai and nilai < 2.5:\n",
    "    print(\"Nilai anda : \",nilai,\"berarti C\")\n",
    "elif 1.5 <= nilai and nilai < 2.0:\n",
    "    print(\"Nilai anda : \",nilai,\"berarti D+\")\n",
    "elif 1.0 <= nilai and nilai < 1.5:\n",
    "    print(\"Nilai anda : \",nilai,\"berarti D\")\n",
    "else: \n",
    "    print(\"Nilai anda : \",nilai,\"berarti E\")\n",
    "print(\"Selamat Belajar\")"
   ]
  },
  {
   "cell_type": "code",
   "execution_count": 9,
   "metadata": {},
   "outputs": [
    {
     "name": "stdout",
     "output_type": "stream",
     "text": [
      "Masukan nilai anda : 0.6\n",
      "Nilai anda :  0.6 berarti E\n",
      "Selamat Belajar\n"
     ]
    }
   ],
   "source": [
    "# Penghitung Nilai Akhir 3 dengan logika AND dan input()\n",
    "nilai = float(input(\"Masukan nilai anda : \"))\n",
    "if nilai >= 4.0:\n",
    "    print(\"Nilai anda : \",nilai,\"berarti A\")\n",
    "elif 3.5 <= nilai and nilai < 4.0:\n",
    "    print(\"Nilai anda : \",nilai,\"berarti B+\")\n",
    "elif 3.0 <= nilai and nilai < 3.5:\n",
    "    print(\"Nilai anda : \",nilai,\"berarti B\")\n",
    "elif 2.5 <= nilai and nilai < 3.0:\n",
    "    print(\"Nilai anda : \",nilai,\"berarti C+\")\n",
    "elif 2.0 <= nilai and nilai < 2.5:\n",
    "    print(\"Nilai anda : \",nilai,\"berarti C\")\n",
    "elif 1.5 <= nilai and nilai < 2.0:\n",
    "    print(\"Nilai anda : \",nilai,\"berarti D+\")\n",
    "elif 1.0 <= nilai and nilai < 1.5:\n",
    "    print(\"Nilai anda : \",nilai,\"berarti D\")\n",
    "else: \n",
    "    print(\"Nilai anda : \",nilai,\"berarti E\")\n",
    "print(\"Selamat Belajar\")"
   ]
  },
  {
   "cell_type": "code",
   "execution_count": null,
   "metadata": {},
   "outputs": [],
   "source": []
  }
 ],
 "metadata": {
  "kernelspec": {
   "display_name": "Python 3",
   "language": "python",
   "name": "python3"
  },
  "language_info": {
   "codemirror_mode": {
    "name": "ipython",
    "version": 3
   },
   "file_extension": ".py",
   "mimetype": "text/x-python",
   "name": "python",
   "nbconvert_exporter": "python",
   "pygments_lexer": "ipython3",
   "version": "3.6.8"
  }
 },
 "nbformat": 4,
 "nbformat_minor": 2
}
