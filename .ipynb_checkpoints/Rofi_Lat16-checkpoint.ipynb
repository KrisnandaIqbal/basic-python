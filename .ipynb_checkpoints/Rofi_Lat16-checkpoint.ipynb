{
 "cells": [
  {
   "cell_type": "code",
   "execution_count": null,
   "metadata": {},
   "outputs": [],
   "source": [
    "import random\n",
    "\n",
    "angka = random.randrange(1, 100)\n",
    "tebakan = 0\n",
    "tebakan_saudara = int(input(\"Tebak angka yang sudah dibangkitkan antara 1 s.d 100: \"))\n",
    "while tebakan_saudara != angka:\n",
    "    tebakan += 1\n",
    "    if tebakan_saudara > angka:\n",
    "        print(tebakan_saudara, \"terlalu tinggi\")\n",
    "    elif tebakan_saudara < angka:\n",
    "        print(tebakan_saudara, \"terlalu rendah\")\n",
    "    tebakan_saudara = int(input(\"Tebak lagi: \"))"
   ]
  }
 ],
 "metadata": {
  "kernelspec": {
   "display_name": "Python 3",
   "language": "python",
   "name": "python3"
  },
  "language_info": {
   "codemirror_mode": {
    "name": "ipython",
    "version": 3
   },
   "file_extension": ".py",
   "mimetype": "text/x-python",
   "name": "python",
   "nbconvert_exporter": "python",
   "pygments_lexer": "ipython3",
   "version": "3.6.8"
  }
 },
 "nbformat": 4,
 "nbformat_minor": 2
}
