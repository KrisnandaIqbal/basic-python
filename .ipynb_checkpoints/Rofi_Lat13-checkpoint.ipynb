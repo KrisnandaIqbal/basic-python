{
 "cells": [
  {
   "cell_type": "code",
   "execution_count": null,
   "metadata": {},
   "outputs": [],
   "source": [
    "total = 0.0\n",
    "i = 0\n",
    "opsi = input('Tekan y/Y jika Saudara ingin memasukkan angka lagi : ')\n",
    "while opsi == 'y' or opsi == 'Y':\n",
    "    angka = float(input('Masukkan angka :'))\n",
    "    total = total + angka\n",
    "    i = i+1\n",
    "    opsi = input('Tekan y jika Saudara ingin memasukkan angka lagi : ')\n",
    "rerata = total/i\n",
    "print(\"Jumlah masukan :\", i)\n",
    "print(\"Total masukan :\", format(total,'.2f'))\n",
    "print(\"Rerata masukan :\", format(rerata,'.2f'))"
   ]
  }
 ],
 "metadata": {
  "kernelspec": {
   "display_name": "Python 3",
   "language": "python",
   "name": "python3"
  },
  "language_info": {
   "codemirror_mode": {
    "name": "ipython",
    "version": 3
   },
   "file_extension": ".py",
   "mimetype": "text/x-python",
   "name": "python",
   "nbconvert_exporter": "python",
   "pygments_lexer": "ipython3",
   "version": "3.6.8"
  }
 },
 "nbformat": 4,
 "nbformat_minor": 2
}
