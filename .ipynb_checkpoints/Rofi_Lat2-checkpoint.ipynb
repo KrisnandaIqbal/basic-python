{
 "cells": [
  {
   "cell_type": "code",
   "execution_count": 7,
   "metadata": {},
   "outputs": [
    {
     "name": "stdout",
     "output_type": "stream",
     "text": [
      "Waktu tempuh mobil : 4 : 17 : 16\n",
      "Waktu tempuh kereta : 3 : 7 : 13\n",
      "Waktu akhir kereta : 10 : 17 : 16\n",
      "Waktu tempuh kereta : 9 : 7 : 13\n"
     ]
    }
   ],
   "source": [
    "from datetime import timedelta\n",
    "#Latihan\n",
    "waktu_mobil = 15436 #waktu awal\n",
    "jam_mobil = waktu_mobil // 3600\n",
    "sisa_detik_mobil = waktu_mobil - (jam_mobil * 3600)\n",
    "menit_mobil = sisa_detik_mobil // 60\n",
    "detik_mobil = sisa_detik_mobil - (menit_mobil * 60)\n",
    "\n",
    "waktu_kereta = waktu_mobil - 4203\n",
    "jam_kereta = waktu_kereta // 3600\n",
    "sisa_detik_kereta = waktu_kereta - (jam_kereta * 3600)\n",
    "menit_kereta = sisa_detik_kereta // 60\n",
    "detik_kereta = sisa_detik_kereta - (menit_kereta * 60)\n",
    "\n",
    "print (\"Waktu tempuh mobil :\",jam_mobil,\":\",menit_mobil,\":\",detik_mobil)\n",
    "print (\"Waktu tempuh kereta :\",jam_kereta,\":\",menit_kereta,\":\",detik_kereta)\n",
    "print (\"Waktu akhir kereta :\",jam_mobil+6,\":\",menit_mobil+0,\":\",detik_mobil+0)\n",
    "print (\"Waktu akhir kereta :\",jam_kereta+6,\":\",menit_kereta+0,\":\",detik_kereta+0)"
   ]
  }
 ],
 "metadata": {
  "kernelspec": {
   "display_name": "Python 3",
   "language": "python",
   "name": "python3"
  },
  "language_info": {
   "codemirror_mode": {
    "name": "ipython",
    "version": 3
   },
   "file_extension": ".py",
   "mimetype": "text/x-python",
   "name": "python",
   "nbconvert_exporter": "python",
   "pygments_lexer": "ipython3",
   "version": "3.6.8"
  }
 },
 "nbformat": 4,
 "nbformat_minor": 2
}
