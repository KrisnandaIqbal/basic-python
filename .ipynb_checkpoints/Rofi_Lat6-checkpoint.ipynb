{
 "cells": [
  {
   "cell_type": "code",
   "execution_count": 13,
   "metadata": {},
   "outputs": [
    {
     "name": "stdout",
     "output_type": "stream",
     "text": [
      "Masukan Nilai A : 1\n",
      "Masukan Nilai B : 7\n",
      "Masukan Nilai C : 10\n",
      "3.0\n",
      "Nilai X1 :  -2.0 dan X2 :  -5.0\n"
     ]
    }
   ],
   "source": [
    "import math\n",
    "a = int(input(\"Masukan Nilai A : \"))\n",
    "b = int(input(\"Masukan Nilai B : \"))\n",
    "c = int(input(\"Masukan Nilai C : \"))\n",
    "d = b * b - 4 * a * c\n",
    "print(math.sqrt(d))\n",
    "if d == \"0\":\n",
    "    x1 = -b / 2 * a\n",
    "    x2 = x1\n",
    "    print(\"Nilai X1 : \",x1,\"sama dengan\",\"X2 : \", x2)\n",
    "elif d > 0:\n",
    "    x1 = (-b + math.sqrt(d)) / 2 * a\n",
    "    x2 = (-b - math.sqrt(d)) / 2 * a\n",
    "    print(\"Nilai X1 : \",x1,\"dan\",\"X2 : \", x2)\n",
    "else:\n",
    "    print(\"Maaf X1 dan X2 merupakan bilangan imaginer\")"
   ]
  }
 ],
 "metadata": {
  "kernelspec": {
   "display_name": "Python 3",
   "language": "python",
   "name": "python3"
  },
  "language_info": {
   "codemirror_mode": {
    "name": "ipython",
    "version": 3
   },
   "file_extension": ".py",
   "mimetype": "text/x-python",
   "name": "python",
   "nbconvert_exporter": "python",
   "pygments_lexer": "ipython3",
   "version": "3.6.8"
  }
 },
 "nbformat": 4,
 "nbformat_minor": 2
}
