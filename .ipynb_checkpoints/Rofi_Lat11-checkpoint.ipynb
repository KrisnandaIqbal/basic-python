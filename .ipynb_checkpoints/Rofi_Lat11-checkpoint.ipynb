{
 "cells": [
  {
   "cell_type": "code",
   "execution_count": 8,
   "metadata": {
    "scrolled": false
   },
   "outputs": [],
   "source": [
    "#Mencari Akar persamaan Kuadrat"
   ]
  },
  {
   "cell_type": "markdown",
   "metadata": {},
   "source": [
    "$$^{X_{1}, X_{2}}= \\frac{-b\\pm \\sqrt{b^{2}-4ac}}{2a}$$"
   ]
  },
  {
   "cell_type": "code",
   "execution_count": 9,
   "metadata": {},
   "outputs": [
    {
     "name": "stdout",
     "output_type": "stream",
     "text": [
      "Masukkan nilai a : 5\n",
      "Masukkan nilai b : 4\n",
      "Masukkan nilai c : 2\n",
      "Angka X1 dan X2 adalah tidak real\n"
     ]
    }
   ],
   "source": [
    "import math #package matematika dalam Python\n",
    "nilai_a = float(input(\"Masukkan nilai a : \"))\n",
    "nilai_b = float(input(\"Masukkan nilai b : \"))\n",
    "nilai_c = float(input(\"Masukkan nilai c : \"))\n",
    "# Mencari Diskriminan\n",
    "D = (nilai_b*nilai_b)-(4*nilai_a*nilai_c)\n",
    "if D==0:\n",
    "    x = -nilai_b/(2*nilai_a)\n",
    "    print(\"X1 = X2 = \", x)\n",
    "elif D>0:\n",
    "    x1 = (-nilai_b + math.sqrt(D))/(2*nilai_a)\n",
    "    x2 = (-nilai_b - math.sqrt(D))/(2*nilai_a)\n",
    "    print(\"X1 = \", x1, \"X2 = \", x2)\n",
    "else:\n",
    "    print(\"Angka X1 dan X2 adalah tidak real\")"
   ]
  }
 ],
 "metadata": {
  "kernelspec": {
   "display_name": "Python 3",
   "language": "python",
   "name": "python3"
  },
  "language_info": {
   "codemirror_mode": {
    "name": "ipython",
    "version": 3
   },
   "file_extension": ".py",
   "mimetype": "text/x-python",
   "name": "python",
   "nbconvert_exporter": "python",
   "pygments_lexer": "ipython3",
   "version": "3.6.8"
  }
 },
 "nbformat": 4,
 "nbformat_minor": 2
}
