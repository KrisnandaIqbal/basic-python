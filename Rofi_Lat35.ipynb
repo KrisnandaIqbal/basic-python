{
 "cells": [
  {
   "cell_type": "code",
   "execution_count": 7,
   "metadata": {},
   "outputs": [
    {
     "name": "stdout",
     "output_type": "stream",
     "text": [
      "Masukkan jumlah angka yang dikehendaki (dalam deret FIBO):10\n",
      "Deretan 10 angka FIBO yang dikehendaki\n",
      "0,1,1,2,3,5,8,13,21,34,"
     ]
    }
   ],
   "source": [
    "angka_fibo = int(input(\"Masukkan jumlah angka yang dikehendaki (dalam deret FIBO):\"))\n",
    "fibo = []\n",
    "i = 0\n",
    "while i <= (angka_fibo-1) :\n",
    "    fibo.insert(i, i)\n",
    "    i = i+1\n",
    "print(\"Deretan\",angka_fibo,\"angka FIBO yang dikehendaki\")\n",
    "for x in fibo:\n",
    "    if x==0:\n",
    "        fibo[x]=x\n",
    "        print(fibo[x], end=',')\n",
    "    elif x==1:\n",
    "        fibo[x]=x\n",
    "        print(fibo[x], end=',')\n",
    "    else:\n",
    "        fibo[x]=fibo[x-1]+fibo[x-2]\n",
    "        print(fibo[x], end=',')"
   ]
  }
 ],
 "metadata": {
  "kernelspec": {
   "display_name": "Python 3",
   "language": "python",
   "name": "python3"
  },
  "language_info": {
   "codemirror_mode": {
    "name": "ipython",
    "version": 3
   },
   "file_extension": ".py",
   "mimetype": "text/x-python",
   "name": "python",
   "nbconvert_exporter": "python",
   "pygments_lexer": "ipython3",
   "version": "3.6.9"
  }
 },
 "nbformat": 4,
 "nbformat_minor": 2
}
