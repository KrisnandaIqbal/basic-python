{
 "cells": [
  {
   "cell_type": "code",
   "execution_count": 1,
   "metadata": {},
   "outputs": [
    {
     "name": "stdout",
     "output_type": "stream",
     "text": [
      "Masukan Panjang :1\n",
      "Masukan Lebar :1\n",
      "Masukan Tinggi :1\n",
      "Luas =  6.0\n",
      "Keliling =  12.0\n",
      "Volume =  1.0\n"
     ]
    }
   ],
   "source": [
    "from balok import *\n",
    "\n",
    "def input_balok():\n",
    "    panjang = float(input(\"Masukan Panjang :\"))\n",
    "    lebar = float(input(\"Masukan Lebar :\"))\n",
    "    tinggi = float(input(\"Masukan Tinggi :\"))\n",
    "    return panjang, lebar, tinggi\n",
    "\n",
    "a, b, c = input_balok()\n",
    "luas_balok(a,b,c)\n",
    "keliling_balok(a,b,c)\n",
    "volume_balok(a,b,c)"
   ]
  }
 ],
 "metadata": {
  "kernelspec": {
   "display_name": "Python 3",
   "language": "python",
   "name": "python3"
  },
  "language_info": {
   "codemirror_mode": {
    "name": "ipython",
    "version": 3
   },
   "file_extension": ".py",
   "mimetype": "text/x-python",
   "name": "python",
   "nbconvert_exporter": "python",
   "pygments_lexer": "ipython3",
   "version": "3.6.9"
  }
 },
 "nbformat": 4,
 "nbformat_minor": 2
}
