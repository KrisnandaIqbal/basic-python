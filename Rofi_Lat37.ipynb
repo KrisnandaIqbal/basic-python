{
 "cells": [
  {
   "cell_type": "code",
   "execution_count": 1,
   "metadata": {},
   "outputs": [
    {
     "name": "stdout",
     "output_type": "stream",
     "text": [
      "Tuple setelah digabungkan = ('Sosiologi', 'Kimia', 'Ekonomi', 'Bahasa Indonesia', 'Matematika', 1, 2, 3, 4, 5)\n"
     ]
    }
   ],
   "source": [
    "tuple_1 = (\"Sosiologi\", \"Kimia\", \"Ekonomi\", \"Bahasa Indonesia\", \"Matematika\")\n",
    "tuple_2 = (1, 2, 3, 4, 5)\n",
    "tuple_gabung=tuple_1+tuple_2\n",
    "print(\"Tuple setelah digabungkan =\",tuple_gabung)"
   ]
  }
 ],
 "metadata": {
  "kernelspec": {
   "display_name": "Python 3",
   "language": "python",
   "name": "python3"
  },
  "language_info": {
   "codemirror_mode": {
    "name": "ipython",
    "version": 3
   },
   "file_extension": ".py",
   "mimetype": "text/x-python",
   "name": "python",
   "nbconvert_exporter": "python",
   "pygments_lexer": "ipython3",
   "version": "3.6.9"
  }
 },
 "nbformat": 4,
 "nbformat_minor": 2
}
