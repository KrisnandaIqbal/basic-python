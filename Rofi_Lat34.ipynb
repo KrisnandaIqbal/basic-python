{
 "cells": [
  {
   "cell_type": "code",
   "execution_count": 6,
   "metadata": {},
   "outputs": [
    {
     "name": "stdout",
     "output_type": "stream",
     "text": [
      "Angka terbesar adalah 66\n"
     ]
    }
   ],
   "source": [
    "angka = [20, 8, 35, 12, 17, 66, 21]\n",
    "i = 0\n",
    "terbesar = 0\n",
    "while i <= 6:\n",
    "    if angka[i]>terbesar:\n",
    "        terbesar = angka[i]\n",
    "    i = i+1\n",
    "print(\"Angka terbesar adalah\",terbesar)"
   ]
  }
 ],
 "metadata": {
  "kernelspec": {
   "display_name": "Python 3",
   "language": "python",
   "name": "python3"
  },
  "language_info": {
   "codemirror_mode": {
    "name": "ipython",
    "version": 3
   },
   "file_extension": ".py",
   "mimetype": "text/x-python",
   "name": "python",
   "nbconvert_exporter": "python",
   "pygments_lexer": "ipython3",
   "version": "3.6.9"
  }
 },
 "nbformat": 4,
 "nbformat_minor": 2
}
