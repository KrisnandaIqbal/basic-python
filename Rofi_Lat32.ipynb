{
 "cells": [
  {
   "cell_type": "code",
   "execution_count": null,
   "metadata": {},
   "outputs": [
    {
     "name": "stdout",
     "output_type": "stream",
     "text": [
      "Program Menghitung Luas Bangun Datar Sederhana\n",
      "******************\n",
      "1. Luas Lingkaran\n",
      "2. Luas Segitiga\n",
      "3. Luas Balok\n",
      "4. Luas Kubus\n",
      "******************\n",
      "Silahkan pilih 1-4\n",
      "Masukkan pilihan 1/2/3/4:1\n",
      "1.Luas Lingkaran\n",
      "Masukkan nilai jari - jari = 7\n",
      "Luas lingkaranya adalah  153.94\n",
      " \n"
     ]
    }
   ],
   "source": [
    "from math import pi\n",
    "\n",
    "def lingkaran() :\n",
    "    print (\"1.Luas Lingkaran\")\n",
    "    jari = float(input(\"Masukkan nilai jari - jari = \"))\n",
    "    luas_lingkaran = pi * (jari**2)\n",
    "    print (\"Luas lingkaranya adalah \", format(luas_lingkaran, '.2f'))\n",
    "    print (\" \")\n",
    "    tanya ()\n",
    "def segitiga() :\n",
    "    print (\"2.Luas Segitiga\")\n",
    "    alas = float(input(\"Masukkan nilai alas = \"))\n",
    "    tinggi = float(input(\"Masukkan nilai tinggi = \"))\n",
    "    luas_segitiga = alas * tinggi / 2\n",
    "    print (\"Luas Segitiganya adalah \", luas_segitiga)\n",
    "    print (\" \")\n",
    "    tanya ()\n",
    "def balok() :\n",
    "    print (\"3.Luas Balok\")\n",
    "    panjang = float(input(\"Masukkan nilai panjang = \"))\n",
    "    lebar = float(input(\"Masukkan nilai lebar = \"))\n",
    "    tinggi = float(input(\"Masukkan nilai tinggi = \"))\n",
    "    luas_balok =  2 * (panjang * lebar + panjang * tinggi + lebar * tinggi)\n",
    "    print (\"Luas baloknya adalah \",luas_balok)\n",
    "    print (\" \")\n",
    "    tanya ()\n",
    "def kubus() :\n",
    "    print (\"4.Luas Kubus\")\n",
    "    sisi = float(input(\"Masukkan nilai sisi kubus = \"))\n",
    "    luas_kubus = 6 * (sisi**2)\n",
    "    print (\"Luas Kubusnya adalah \",luas_kubus)\n",
    "    print (\" \")\n",
    "    tanya ()\n",
    "def tanya() :\n",
    "    choose = input(\"Ulangi lagi (Y/T)? \")\n",
    "    if (choose == \"Y\") or (choose == \"y\"):\n",
    "        kalkulator()\n",
    "    elif (choose == \"T\") or (choose == \"t\"):\n",
    "        print (\"Terima kasih sudah menggunakan program ini\")\n",
    "    else :\n",
    "        print (\"Maaf, input yang Anda masukkan salah\")\n",
    "        print (\"Silahkan masukkan Y atau T\")\n",
    "        tanya ()\n",
    "def menu():\n",
    "    print(\"Program Menghitung Luas Bangun Datar Sederhana\")\n",
    "    print(\"******************\")\n",
    "    print(\"1. Luas Lingkaran\")\n",
    "    print(\"2. Luas Segitiga\")\n",
    "    print(\"3. Luas Balok\")\n",
    "    print(\"4. Luas Kubus\")\n",
    "    print(\"******************\")\n",
    "    print(\"Silahkan pilih 1-4\")    \n",
    "    pil = input(\"Masukkan pilihan 1/2/3/4:\")\n",
    "    if pil == \"1\":\n",
    "        lingkaran()\n",
    "    elif pil == \"2\":\n",
    "        segitiga()\n",
    "    elif pil == \"3\":\n",
    "        balok()\n",
    "    elif pil == \"4\":\n",
    "        kubus()\n",
    "    else :\n",
    "        print (\"Maaf, input yang Anda masukkan salah\")\n",
    "        print (\"Coba ulangi lagi\")\n",
    "\n",
    "menu()"
   ]
  }
 ],
 "metadata": {
  "kernelspec": {
   "display_name": "Python 3",
   "language": "python",
   "name": "python3"
  },
  "language_info": {
   "codemirror_mode": {
    "name": "ipython",
    "version": 3
   },
   "file_extension": ".py",
   "mimetype": "text/x-python",
   "name": "python",
   "nbconvert_exporter": "python",
   "pygments_lexer": "ipython3",
   "version": "3.6.9"
  }
 },
 "nbformat": 4,
 "nbformat_minor": 2
}
