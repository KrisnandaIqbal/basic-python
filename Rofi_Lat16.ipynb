{
 "cells": [
  {
   "cell_type": "code",
   "execution_count": 1,
   "metadata": {},
   "outputs": [
    {
     "name": "stdout",
     "output_type": "stream",
     "text": [
      "Tebak angka yang sudah dibangkitkan antara 1 s.d 100: 100\n",
      "100 terlalu tinggi\n",
      "Tebak lagi: 50\n",
      "50 terlalu rendah\n",
      "Tebak lagi: 60\n",
      "60 terlalu rendah\n",
      "Tebak lagi: 70\n",
      "70 terlalu tinggi\n",
      "Tebak lagi: 65\n",
      "65 terlalu rendah\n",
      "Tebak lagi: 68\n",
      "\n",
      "Bagus! Saudara menebak dalam 5 tebakan\n"
     ]
    }
   ],
   "source": [
    "import random\n",
    "\n",
    "angka = random.randrange(1, 100)\n",
    "tebakan = 0\n",
    "tebakan_saudara = int(input(\"Tebak angka yang sudah dibangkitkan antara 1 s.d 100: \"))\n",
    "while tebakan_saudara != angka:\n",
    "    tebakan += 1\n",
    "    if tebakan_saudara > angka:\n",
    "        print(tebakan_saudara, \"terlalu tinggi\")\n",
    "    elif tebakan_saudara < angka:\n",
    "        print(tebakan_saudara, \"terlalu rendah\")\n",
    "    tebakan_saudara = int(input(\"Tebak lagi: \"))\n",
    "print(\"\\nBagus! Saudara menebak dalam\",tebakan,\"tebakan\")"
   ]
  }
 ],
 "metadata": {
  "kernelspec": {
   "display_name": "Python 3",
   "language": "python",
   "name": "python3"
  },
  "language_info": {
   "codemirror_mode": {
    "name": "ipython",
    "version": 3
   },
   "file_extension": ".py",
   "mimetype": "text/x-python",
   "name": "python",
   "nbconvert_exporter": "python",
   "pygments_lexer": "ipython3",
   "version": "3.6.8"
  }
 },
 "nbformat": 4,
 "nbformat_minor": 2
}
