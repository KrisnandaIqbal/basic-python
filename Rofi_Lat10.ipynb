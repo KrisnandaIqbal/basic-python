{
 "cells": [
  {
   "cell_type": "code",
   "execution_count": 1,
   "metadata": {},
   "outputs": [
    {
     "name": "stdout",
     "output_type": "stream",
     "text": [
      "Angka yang akan di jumlah: \n",
      "1\n",
      "2\n",
      "3\n",
      "4\n",
      "5\n",
      "15\n"
     ]
    }
   ],
   "source": [
    "batas_angka = 5\n",
    "jumlah = 0\n",
    "i = 1\n",
    "print(\"Angka yang akan di jumlah: \")\n",
    "while i <= batas_angka:\n",
    "    print(i)\n",
    "    jumlah = jumlah + i\n",
    "    i = i + 1\n",
    "print(jumlah)"
   ]
  },
  {
   "cell_type": "code",
   "execution_count": 2,
   "metadata": {},
   "outputs": [
    {
     "name": "stdout",
     "output_type": "stream",
     "text": [
      "2\n",
      "4\n",
      "6\n",
      "8\n",
      "10\n",
      "12\n",
      "14\n",
      "16\n",
      "18\n",
      "20\n",
      "Jumlah seluruhnya : 110\n"
     ]
    }
   ],
   "source": [
    "batas_angka  = 20\n",
    "i = 1\n",
    "jumlah = 0\n",
    "while i <= batas_angka:\n",
    "    if i % 2 == 0:\n",
    "        print(i)\n",
    "        jumlah = jumlah + i\n",
    "    i = i + 1\n",
    "print(\"Jumlah seluruhnya :\", jumlah)"
   ]
  },
  {
   "cell_type": "code",
   "execution_count": 3,
   "metadata": {},
   "outputs": [
    {
     "name": "stdout",
     "output_type": "stream",
     "text": [
      "1\n",
      "3\n",
      "5\n",
      "7\n",
      "9\n",
      "11\n",
      "13\n",
      "15\n",
      "17\n",
      "19\n",
      "Jumlah seluruhnya : 100\n"
     ]
    }
   ],
   "source": [
    "batas_angka  = 20\n",
    "i = 1\n",
    "jumlah = 0\n",
    "while i <= batas_angka:\n",
    "    if i % 2:\n",
    "        print(i)\n",
    "        jumlah = jumlah + i\n",
    "    i = i + 1\n",
    "print(\"Jumlah seluruhnya :\", jumlah)"
   ]
  }
 ],
 "metadata": {
  "kernelspec": {
   "display_name": "Python 3",
   "language": "python",
   "name": "python3"
  },
  "language_info": {
   "codemirror_mode": {
    "name": "ipython",
    "version": 3
   },
   "file_extension": ".py",
   "mimetype": "text/x-python",
   "name": "python",
   "nbconvert_exporter": "python",
   "pygments_lexer": "ipython3",
   "version": "3.6.8"
  },
  "widgets": {
   "application/vnd.jupyter.widget-state+json": {
    "state": {},
    "version_major": 2,
    "version_minor": 0
   }
  }
 },
 "nbformat": 4,
 "nbformat_minor": 2
}
