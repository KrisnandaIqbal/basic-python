{
 "cells": [
  {
   "cell_type": "code",
   "execution_count": 2,
   "metadata": {},
   "outputs": [
    {
     "name": "stdout",
     "output_type": "stream",
     "text": [
      "Data suhu  35 °\n",
      "Data suhu  33 °\n",
      "Data suhu  33 °\n",
      "Data suhu  34 °\n",
      "Data suhu  30 °\n",
      "Data suhu  29 °\n",
      "Data suhu  27 °\n",
      "Data suhu  26 °\n",
      "Data suhu  27 °\n"
     ]
    }
   ],
   "source": [
    "data_suhu = [35, 33, 33, 34, 30, 29, 27, 26, 24, 27]\n",
    "for i in data_suhu:\n",
    "    if i < 25:\n",
    "        continue\n",
    "    print(\"Data suhu \", i,\"\\u00B0\")"
   ]
  }
 ],
 "metadata": {
  "kernelspec": {
   "display_name": "Python 3",
   "language": "python",
   "name": "python3"
  },
  "language_info": {
   "codemirror_mode": {
    "name": "ipython",
    "version": 3
   },
   "file_extension": ".py",
   "mimetype": "text/x-python",
   "name": "python",
   "nbconvert_exporter": "python",
   "pygments_lexer": "ipython3",
   "version": "3.6.8"
  }
 },
 "nbformat": 4,
 "nbformat_minor": 2
}
